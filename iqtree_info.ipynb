{
 "cells": [
  {
   "cell_type": "code",
   "execution_count": 11,
   "metadata": {
    "vscode": {
     "languageId": "r"
    }
   },
   "outputs": [],
   "source": [
    "gene_id <- \"./test/dmg_Single_4\"\n",
    "iqtree_path <- paste0(gene_id, \".iqtree\")\n",
    "# open iqtree file as text\n",
    "iqtree_text <- readLines(iqtree_path)\n",
    "# abstract iqtree info\n",
    "iqtree_summarise <- list()"
   ]
  },
  {
   "cell_type": "code",
   "execution_count": 12,
   "metadata": {
    "vscode": {
     "languageId": "r"
    }
   },
   "outputs": [],
   "source": [
    "# the best model and its criteria\n",
    "line_best_model <- grep(\"Best-fit model according to\", iqtree_text)\n",
    "iqtree_summarise$model_crireia <- sub(\".*to\\\\s+(.*):.*\", \"\\\\1\", iqtree_text[line_best_model])\n",
    "iqtree_summarise$best_model <- sub(\".*:\\\\s*(.*)\", \"\\\\1\", iqtree_text[line_best_model])\n",
    "line_outgroup <- grep(\"Tree is UNROOTED\", iqtree_text)\n",
    "iqtree_summarise$outgroup <- sub(\".*'\\\\s*(.*)'.*\", \"\\\\1\", iqtree_text[line_outgroup])\n",
    "rm(line_best_model, line_outgroup)\n"
   ]
  },
  {
   "cell_type": "code",
   "execution_count": 13,
   "metadata": {
    "vscode": {
     "languageId": "r"
    }
   },
   "outputs": [],
   "source": [
    "# Find the line numbers for the substitution model and likelihood tree\n",
    "line_sub <- grep(\"SUBSTITUTION PROCESS\", iqtree_text)\n",
    "line_likelihood <- grep(\"MAXIMUM LIKELIHOOD TREE\", iqtree_text)\n",
    "\n",
    "# Extract the substitution model information\n",
    "model_info <- iqtree_text[(line_sub+3):(line_likelihood-1)]\n",
    "model_substitution <- sub(\".*: (.*)\", \"\\\\1\", model_info[1])\n",
    "model_components <- unlist(strsplit(model_substitution, \"\\\\+\"))\n",
    "\n",
    "# Check if the model includes a rate heterogeneity mixture\n",
    "if (grepl(\"(m|M)ixture\", model_info[1])){\n",
    "    # Find the line numbers for the rate heterogeneity and site proportion and rates sections\n",
    "    line_RHAS <-  grep(\"Model of rate heterogeneity:\", model_info)\n",
    "\n",
    "    # Extract the rate heterogeneity and site proportion and rates information\n",
    "    iqtree_summarise$model_info <- read.table(text = model_info[3:(line_RHAS-1)], header = TRUE)\n",
    "    if (grepl(\"R\", model_components[length(model_components)])){\n",
    "        line_table <- grep(\"Category\", model_info)\n",
    "        block_SPR <- model_info[line_table:(length(model_info) - 1)]\n",
    "        iqtree_summarise$RHAS <- read.table(text = block_SPR, header = TRUE)\n",
    "        rm(line_table, block_SPR)\n",
    "    } else if (grepl(\"G\", model_components[length(model_components)])){\n",
    "        line_table <- grep(\"Category\", model_info)\n",
    "        block_SPR <- model_info[line_table:(length(model_info) - 2)]\n",
    "        iqtree_summarise$RHAS <- read.table(text = block_SPR, header = TRUE)\n",
    "        iqtree_summarise$G_alpha <-  sub(\".*: ([0-9.]+)\", \"\\\\1\", model_info[line_table - 2])\n",
    "        rm(line_table, block_SPR)\n",
    "    } else { \n",
    "        iqtree_summarise$RHAS <- NULL\n",
    "    }\n",
    "    \n",
    "} else {\n",
    "    # Find the line numbers for the rate parameter R, state frequencies, rate matrix Q, rate heterogeneity, and site proportion and rates sections\n",
    "    line_R <- grep(\"Rate parameter R\", model_info)\n",
    "    line_F <- grep(\"State frequencies\", model_info)\n",
    "    line_Q <- grep(\"Rate matrix Q\", model_info)\n",
    "    line_RHAS <- grep(\"Model of rate heterogeneity:\", model_info)\n",
    "    \n",
    "    # Extract the rate parameter R, state frequencies, and rate matrix Q information\n",
    "    block_R <- model_info[(line_R+2):(line_F-2)]\n",
    "    block_Q  <- model_info[(line_Q+2):(line_RHAS-1)]\n",
    "    \n",
    "    iqtree_summarise$R <- as.numeric(sub(\".*: ([0-9.]+)\", \"\\\\1\", block_R))\n",
    "    names(iqtree_summarise$R) <- sub(\"(.*): [0-9.]+\", \"\\\\1\", block_R)\n",
    "\n",
    "    if (grepl(\"equal frequencies\", model_info[line_F])){\n",
    "        iqtree_summarise$F <- rep(1/4, 4)\n",
    "    } else {\n",
    "        block_F  <- model_info[(line_F+2):(line_Q-2)]\n",
    "        iqtree_summarise$F <- as.numeric(sub(\".*= ([0-9.]+)\", \"\\\\1\", block_F))\n",
    "        rm(block_F)\n",
    "    }\n",
    "    names(iqtree_summarise$F) <- c(\"A\", \"C\", \"G\", \"T\")\n",
    "\n",
    "    iqtree_summarise$Q <- read.table(text = block_Q, header = FALSE, row.names = 1)\n",
    "    colnames(iqtree_summarise$Q) <- rownames(iqtree_summarise$Q)\n",
    "    \n",
    "    # Create a parameter string for the model\n",
    "    parameter <- paste0(model_components[1], \"{\", paste(as.character(iqtree_summarise$R), collapse = \",\"),  \"}+\",\n",
    "                        model_components[2], \"{\", paste(as.character(iqtree_summarise$F), collapse = \",\"),  \"}\")\n",
    "    \n",
    "    # Store the model information in a data frame\n",
    "    iqtree_summarise$model_info <- data.frame(\"No\" = 1,\n",
    "                                  \"Component\" = model_components[1],\n",
    "                                  \"Rate\" = 1.0000,\n",
    "                                  \"Weight\" = 1.0000,\n",
    "                                  \"Parameters\" = parameter)\n",
    "\n",
    "\n",
    "    # Extract the rate heterogeneity and site proportion and rates information\n",
    "    if (grepl(\"R\", model_components[length(model_components)])){\n",
    "        line_table <- grep(\"Category\", model_info)\n",
    "        block_SPR <- model_info[line_table:(length(model_info) - 1)]\n",
    "        iqtree_summarise$RHAS <- read.table(text = block_SPR, header = TRUE)\n",
    "        rm(line_table, block_SPR)\n",
    "    } else if (grepl(\"G\", model_components[length(model_components)])){\n",
    "        line_table <- grep(\"Category\", model_info)\n",
    "        block_SPR <- model_info[line_table:(length(model_info) - 2)]\n",
    "        iqtree_summarise$RHAS <- read.table(text = block_SPR, header = TRUE)\n",
    "        iqtree_summarise$G_alpha <-  sub(\".*: ([0-9.]+)\", \"\\\\1\", model_info[line_table - 2])\n",
    "        rm(line_table, block_SPR)\n",
    "    } else { \n",
    "        iqtree_summarise$RHAS <- NULL\n",
    "    }\n",
    "\n",
    "    # Remove unnecessary variables\n",
    "    rm(line_sub, line_R, line_F, line_Q, line_RHAS)\n",
    "    rm(block_R, block_Q)\n",
    "    \n",
    "}"
   ]
  },
  {
   "cell_type": "code",
   "execution_count": 14,
   "metadata": {
    "vscode": {
     "languageId": "r"
    }
   },
   "outputs": [],
   "source": [
    "# tree length\n",
    "line_length <- grep(\"Total tree length\", iqtree_text)\n",
    "iqtree_summarise$total_tree_length <- sub(\".*: ([0-9.]+)\", \"\\\\1\", iqtree_text[line_length])\n",
    "iqtree_summarise$internal_tree_length <- sub(\".*: ([0-9.]+).*\", \"\\\\1\", iqtree_text[line_length + 1])\n",
    "rm(line_length)\n"
   ]
  },
  {
   "cell_type": "code",
   "execution_count": 15,
   "metadata": {
    "vscode": {
     "languageId": "r"
    }
   },
   "outputs": [],
   "source": [
    "# statistics\n",
    "\n",
    "iqtree_summarise$log_likelihood <- sub(\".*: ([0-9.-]+) .*\", \"\\\\1\", iqtree_text[line_likelihood + 3])\n",
    "iqtree_summarise$log_likelihood_sd <- sub(\".*: ([0-9.-]+) \\\\(s.e. ([0-9.]+)\\\\)\", \"\\\\2\", iqtree_text[line_likelihood + 3])\n",
    "iqtree_summarise$log_likelihood_Unconstrained <- sub(\".*: ([0-9.-]+)\", \"\\\\1\", iqtree_text[line_likelihood + 4])\n",
    "iqtree_summarise$num_free_params <- sub(\".*: ([0-9]+)\", \"\\\\1\", iqtree_text[line_likelihood + 5])\n",
    "iqtree_summarise$AIC  <- sub(\".*: ([0-9.-]+)\", \"\\\\1\", iqtree_text[line_likelihood + 6])\n",
    "iqtree_summarise$AICc <- sub(\".*: ([0-9.-]+)\", \"\\\\1\", iqtree_text[line_likelihood + 7])\n",
    "iqtree_summarise$BIC  <- sub(\".*: ([0-9.-]+)\", \"\\\\1\", iqtree_text[line_likelihood + 8])\n",
    "# iqtree_summarise$num_params <- sub(\".*: ([0-9]+)\", \"\\\\1\", iqtree_text[line_likelihood + 11])\n",
    "# iqtree_summarise$samp_size <- sub(\".*: ([0-9]+)\", \"\\\\1\", iqtree_text[line_likelihood + 12])\n",
    "rm(line_likelihood)\n"
   ]
  },
  {
   "cell_type": "code",
   "execution_count": 16,
   "metadata": {
    "vscode": {
     "languageId": "r"
    }
   },
   "outputs": [
    {
     "data": {
      "text/html": [
       "<style>\n",
       ".list-inline {list-style: none; margin:0; padding: 0}\n",
       ".list-inline>li {display: inline-block}\n",
       ".list-inline>li:not(:last-child)::after {content: \"\\00b7\"; padding: 0 .5ex}\n",
       "</style>\n",
       "<ol class=list-inline><li>'model_crireia'</li><li>'best_model'</li><li>'outgroup'</li><li>'R'</li><li>'F'</li><li>'Q'</li><li>'model_info'</li><li>'RHAS'</li><li>'G_alpha'</li><li>'total_tree_length'</li><li>'internal_tree_length'</li><li>'log_likelihood'</li><li>'log_likelihood_sd'</li><li>'log_likelihood_Unconstrained'</li><li>'num_free_params'</li><li>'AIC'</li><li>'AICc'</li><li>'BIC'</li></ol>\n"
      ],
      "text/latex": [
       "\\begin{enumerate*}\n",
       "\\item 'model\\_crireia'\n",
       "\\item 'best\\_model'\n",
       "\\item 'outgroup'\n",
       "\\item 'R'\n",
       "\\item 'F'\n",
       "\\item 'Q'\n",
       "\\item 'model\\_info'\n",
       "\\item 'RHAS'\n",
       "\\item 'G\\_alpha'\n",
       "\\item 'total\\_tree\\_length'\n",
       "\\item 'internal\\_tree\\_length'\n",
       "\\item 'log\\_likelihood'\n",
       "\\item 'log\\_likelihood\\_sd'\n",
       "\\item 'log\\_likelihood\\_Unconstrained'\n",
       "\\item 'num\\_free\\_params'\n",
       "\\item 'AIC'\n",
       "\\item 'AICc'\n",
       "\\item 'BIC'\n",
       "\\end{enumerate*}\n"
      ],
      "text/markdown": [
       "1. 'model_crireia'\n",
       "2. 'best_model'\n",
       "3. 'outgroup'\n",
       "4. 'R'\n",
       "5. 'F'\n",
       "6. 'Q'\n",
       "7. 'model_info'\n",
       "8. 'RHAS'\n",
       "9. 'G_alpha'\n",
       "10. 'total_tree_length'\n",
       "11. 'internal_tree_length'\n",
       "12. 'log_likelihood'\n",
       "13. 'log_likelihood_sd'\n",
       "14. 'log_likelihood_Unconstrained'\n",
       "15. 'num_free_params'\n",
       "16. 'AIC'\n",
       "17. 'AICc'\n",
       "18. 'BIC'\n",
       "\n",
       "\n"
      ],
      "text/plain": [
       " [1] \"model_crireia\"                \"best_model\"                  \n",
       " [3] \"outgroup\"                     \"R\"                           \n",
       " [5] \"F\"                            \"Q\"                           \n",
       " [7] \"model_info\"                   \"RHAS\"                        \n",
       " [9] \"G_alpha\"                      \"total_tree_length\"           \n",
       "[11] \"internal_tree_length\"         \"log_likelihood\"              \n",
       "[13] \"log_likelihood_sd\"            \"log_likelihood_Unconstrained\"\n",
       "[15] \"num_free_params\"              \"AIC\"                         \n",
       "[17] \"AICc\"                         \"BIC\"                         "
      ]
     },
     "metadata": {},
     "output_type": "display_data"
    }
   ],
   "source": [
    "names(iqtree_summarise)"
   ]
  },
  {
   "cell_type": "code",
   "execution_count": 17,
   "metadata": {
    "vscode": {
     "languageId": "r"
    }
   },
   "outputs": [],
   "source": [
    "paras_common <- c('model_crireia','best_model','model_info','RHAS',\n",
    "                  'total_tree_length','internal_tree_length','log_likelihood',\n",
    "                  'log_likelihood_sd','log_likelihood_Unconstrained','num_free_params',\n",
    "                  'AIC','AICc','BIC')\n",
    "paras_onemodel <- c(paras_common, \"R\", \"F\", \"Q\")"
   ]
  },
  {
   "cell_type": "code",
   "execution_count": null,
   "metadata": {
    "vscode": {
     "languageId": "r"
    }
   },
   "outputs": [],
   "source": []
  }
 ],
 "metadata": {
  "kernelspec": {
   "display_name": "R",
   "language": "R",
   "name": "ir"
  },
  "language_info": {
   "codemirror_mode": "r",
   "file_extension": ".r",
   "mimetype": "text/x-r-source",
   "name": "R",
   "pygments_lexer": "r",
   "version": "4.3.1"
  },
  "orig_nbformat": 4
 },
 "nbformat": 4,
 "nbformat_minor": 2
}
